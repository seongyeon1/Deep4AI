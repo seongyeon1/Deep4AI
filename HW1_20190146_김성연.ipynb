{
  "nbformat": 4,
  "nbformat_minor": 0,
  "metadata": {
    "colab": {
      "name": "HW1_20190146 김성연",
      "provenance": [],
      "collapsed_sections": [],
      "include_colab_link": true
    },
    "kernelspec": {
      "name": "python3",
      "display_name": "Python 3"
    },
    "language_info": {
      "name": "python"
    },
    "accelerator": "GPU"
  },
  "cells": [
    {
      "cell_type": "markdown",
      "metadata": {
        "id": "view-in-github",
        "colab_type": "text"
      },
      "source": [
        "<a href=\"https://colab.research.google.com/github/seongyeon1/test1/blob/main/HW1_20190146_%EA%B9%80%EC%84%B1%EC%97%B0.ipynb\" target=\"_parent\"><img src=\"https://colab.research.google.com/assets/colab-badge.svg\" alt=\"Open In Colab\"/></a>"
      ]
    },
    {
      "cell_type": "markdown",
      "source": [
        "## HW 1 \n",
        "Answer folloing questions using tensorflow's gradient tape.  \n",
        "\n",
        "EX)\n",
        "```\n",
        "input_var = tf.Variable(initial_value=3.)\n",
        "with tf.GradientTape() as tape:\n",
        "   result = tf.square(input_var)\n",
        "gradient = tape.gradient(result, input_var)\n",
        "```\n",
        "\n",
        "### Q1 Differentiate $y = x^2 + 3x + 1$ with respect to a scalar variable $x$."
      ],
      "metadata": {
        "id": "OwBySVVU5h6M"
      }
    },
    {
      "cell_type": "code",
      "execution_count": 2,
      "metadata": {
        "id": "aZSgHuiR5W1k"
      },
      "outputs": [],
      "source": [
        "import numpy as np\n",
        "import tensorflow as tf"
      ]
    },
    {
      "cell_type": "code",
      "source": [
        "x = tf.Variable(initial_value=0.)\n",
        "\n",
        "with tf.GradientTape() as tape:\n",
        "  y = x ** 2 + x * 3 + 14\n",
        "\n",
        "grad_of_y_wrt_x = tape.gradient(y, x)"
      ],
      "metadata": {
        "id": "t4OWUEpGV_Jw"
      },
      "execution_count": 4,
      "outputs": []
    },
    {
      "cell_type": "code",
      "source": [
        "grad_of_y_wrt_x.numpy()"
      ],
      "metadata": {
        "colab": {
          "base_uri": "https://localhost:8080/"
        },
        "id": "HTpuP-OJbrjE",
        "outputId": "c86fed9d-39bf-490c-b32c-7e0a023ae989"
      },
      "execution_count": 6,
      "outputs": [
        {
          "output_type": "execute_result",
          "data": {
            "text/plain": [
              "3.0"
            ]
          },
          "metadata": {},
          "execution_count": 6
        }
      ]
    },
    {
      "cell_type": "markdown",
      "source": [
        "### Q2 Differentiate $y = X^3 + 3X + 5$ with respect to a 2 by 2 matrix variable $X$."
      ],
      "metadata": {
        "id": "qEqK8L1k6PSd"
      }
    },
    {
      "cell_type": "code",
      "source": [
        "X = tf.Variable(tf.random.uniform((2,2)))\n",
        "\n",
        "with tf.GradientTape() as tape:\n",
        "  y = X ** 3 + X * 3 + 5\n",
        "\n",
        "grad_of_t_wrt_x = tape.gradient(y, X)"
      ],
      "metadata": {
        "id": "WKvVq8pQ6YNt"
      },
      "execution_count": 8,
      "outputs": []
    },
    {
      "cell_type": "markdown",
      "source": [
        "### Q3 Differentiate $z = X^3 y^2 + 3X + 2xy + 1$ with respect to a 2 by 2 matrix variable $X$ and a scalar variable $y$."
      ],
      "metadata": {
        "id": "AFsXMZmW6e6F"
      }
    },
    {
      "cell_type": "code",
      "source": [
        "X = tf.Variable(tf.random.uniform((2,2)))\n",
        "y = tf.Variable(initial_value=0.)\n",
        "\n",
        "with tf.GradientTape() as tape:\n",
        "  z = X ** 3 * y ** 2 + X * 3 + x * y * 2 + 1\n",
        "\n",
        "grad_of_z_wrt_X_y = tape.gradient(z, [X, y])"
      ],
      "metadata": {
        "id": "mXXKBxo36kPl"
      },
      "execution_count": 10,
      "outputs": []
    },
    {
      "cell_type": "code",
      "source": [
        "grad_of_z_wrt_X_y"
      ],
      "metadata": {
        "colab": {
          "base_uri": "https://localhost:8080/"
        },
        "id": "rygfizezTE3F",
        "outputId": "95ce63dd-c4c7-43b3-a370-863d4e8602d6"
      },
      "execution_count": 11,
      "outputs": [
        {
          "output_type": "execute_result",
          "data": {
            "text/plain": [
              "[<tf.Tensor: shape=(2, 2), dtype=float32, numpy=\n",
              " array([[3., 3.],\n",
              "        [3., 3.]], dtype=float32)>,\n",
              " <tf.Tensor: shape=(), dtype=float32, numpy=1.1770139>]"
            ]
          },
          "metadata": {},
          "execution_count": 11
        }
      ]
    },
    {
      "cell_type": "code",
      "source": [
        ""
      ],
      "metadata": {
        "id": "NFgFf0lWTNNg"
      },
      "execution_count": null,
      "outputs": []
    }
  ]
}